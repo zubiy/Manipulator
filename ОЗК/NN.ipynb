{
 "cells": [
  {
   "cell_type": "code",
   "execution_count": 128,
   "metadata": {},
   "outputs": [],
   "source": [
    "from keras.models import Sequential\n",
    "from keras.layers import Dense\n",
    "from keras.layers import Input\n",
    "from keras.wrappers.scikit_learn import KerasRegressor\n",
    "import numpy as np\n",
    "from keras import backend as K\n",
    "from sklearn.metrics import mean_squared_error\n",
    "from sklearn.metrics import mean_absolute_error\n",
    "from sklearn.model_selection import train_test_split\n"
   ]
  },
  {
   "cell_type": "code",
   "execution_count": 129,
   "metadata": {},
   "outputs": [],
   "source": [
    "data_x = np.loadtxt(\"X.csv\", delimiter=',')"
   ]
  },
  {
   "cell_type": "code",
   "execution_count": 130,
   "metadata": {},
   "outputs": [],
   "source": [
    "data_y = np.loadtxt('Y.csv',delimiter=\",\")"
   ]
  },
  {
   "cell_type": "code",
   "execution_count": 131,
   "metadata": {},
   "outputs": [
    {
     "data": {
      "text/plain": [
       "array([[-0.41874 ,  0.53503 , -0.10177 ,  2.0425  ,  1.1827  , -1.5708  ],\n",
       "       [-0.070826, -0.15355 ,  0.80943 ,  1.8929  , -0.87139 ,  1.5708  ],\n",
       "       [ 0.15848 ,  0.024527,  0.90977 ,  0.99655 ,  0.068314,  1.5708  ],\n",
       "       ...,\n",
       "       [ 0.49651 ,  0.31286 ,  0.42368 ,  0.38948 ,  0.42217 ,  1.5708  ],\n",
       "       [-0.16902 ,  0.34117 ,  0.87346 ,  1.435   ,  1.4802  ,  1.5708  ],\n",
       "       [-0.092157,  0.11429 ,  0.80619 ,  1.9888  ,  0.81443 ,  1.5708  ]])"
      ]
     },
     "execution_count": 131,
     "metadata": {},
     "output_type": "execute_result"
    }
   ],
   "source": [
    "data_x"
   ]
  },
  {
   "cell_type": "code",
   "execution_count": 132,
   "metadata": {},
   "outputs": [
    {
     "data": {
      "text/plain": [
       "array([[ 1.9589  ,  0.13682 , -1.2359  ],\n",
       "       [-0.87139 ,  0.6126  ,  1.2803  ],\n",
       "       [ 0.068314,  1.2078  , -0.21124 ],\n",
       "       ...,\n",
       "       [ 0.42217 ,  0.18046 ,  0.20902 ],\n",
       "       [ 1.4802  ,  0.76543 ,  0.66959 ],\n",
       "       [ 0.81443 ,  0.64549 ,  1.3433  ]])"
      ]
     },
     "execution_count": 132,
     "metadata": {},
     "output_type": "execute_result"
    }
   ],
   "source": [
    "data_y"
   ]
  },
  {
   "cell_type": "code",
   "execution_count": 133,
   "metadata": {},
   "outputs": [],
   "source": [
    "\n",
    "\n",
    "X_train, X_test, y_train, y_test = train_test_split(data_x, data_y, test_size=0.2, random_state=42)"
   ]
  },
  {
   "cell_type": "code",
   "execution_count": null,
   "metadata": {},
   "outputs": [],
   "source": [
    "loss = []\n",
    "def base_model():\n",
    "     model = Sequential()\n",
    "     model.add(Dense(32,activation='relu'))\n",
    "     model.add(Dense(64,activation='relu'))\n",
    "     model.add(Dense(128,activation='relu'))\n",
    "     model.add(Dense(32,activation='relu'))\n",
    "     model.add(Dense(3, init='normal'))\n",
    "     model.compile(loss='mean_absolute_error', optimizer = 'adam', metrics=['accuracy'])\n",
    "     model.summary()\n",
    "     return model"
   ]
  },
  {
   "cell_type": "code",
   "execution_count": null,
   "metadata": {},
   "outputs": [],
   "source": [
    "\n",
    "clf = KerasRegressor(build_fn=base_model, epochs=500, batch_size=20,verbose=2)"
   ]
  },
  {
   "cell_type": "code",
   "execution_count": null,
   "metadata": {},
   "outputs": [],
   "source": [
    "clf.fit(X_train,y_train)"
   ]
  },
  {
   "cell_type": "code",
   "execution_count": 188,
   "metadata": {},
   "outputs": [],
   "source": [
    "res = clf.predict(X_test)"
   ]
  },
  {
   "cell_type": "code",
   "execution_count": 189,
   "metadata": {},
   "outputs": [
    {
     "data": {
      "text/plain": [
       "-0.018403173393259444"
      ]
     },
     "execution_count": 189,
     "metadata": {},
     "output_type": "execute_result"
    }
   ],
   "source": [
    "clf.score(X_train,y_train)"
   ]
  },
  {
   "cell_type": "code",
   "execution_count": 190,
   "metadata": {},
   "outputs": [],
   "source": [
    "clf.model.save('qnew3000_5e3.h5')"
   ]
  },
  {
   "cell_type": "code",
   "execution_count": 191,
   "metadata": {},
   "outputs": [],
   "source": [
    "score = mean_absolute_error(y_test, res)"
   ]
  },
  {
   "cell_type": "code",
   "execution_count": 192,
   "metadata": {},
   "outputs": [
    {
     "data": {
      "text/plain": [
       "0.020208844636336334"
      ]
     },
     "execution_count": 192,
     "metadata": {},
     "output_type": "execute_result"
    }
   ],
   "source": [
    "score"
   ]
  },
  {
   "cell_type": "code",
   "execution_count": 193,
   "metadata": {},
   "outputs": [],
   "source": [
    "data_xx = np.loadtxt(\"XX.csv\", delimiter=',')"
   ]
  },
  {
   "cell_type": "code",
   "execution_count": 194,
   "metadata": {},
   "outputs": [],
   "source": [
    "q_new = clf.predict(data_xx)"
   ]
  },
  {
   "cell_type": "code",
   "execution_count": 195,
   "metadata": {},
   "outputs": [
    {
     "data": {
      "text/plain": [
       "array([[ 2.834503  ,  0.9744889 , -0.75455123],\n",
       "       [ 2.9196386 ,  1.1822226 , -0.96565133],\n",
       "       [ 2.9374669 ,  1.3901622 , -1.205993  ],\n",
       "       [ 2.8838646 ,  1.6267931 , -1.5756372 ],\n",
       "       [ 2.7711205 ,  1.8312261 , -1.915173  ],\n",
       "       [ 2.5686257 ,  2.0037122 , -2.2375016 ],\n",
       "       [ 2.3223884 ,  2.0029063 , -2.396414  ],\n",
       "       [ 2.1056838 ,  1.9315834 , -2.4294274 ],\n",
       "       [ 1.853258  ,  1.695997  , -2.3911972 ],\n",
       "       [-1.4687966 , -0.02416579, -0.07829185],\n",
       "       [-1.314397  , -0.0654919 , -0.00952603],\n",
       "       [-1.1590391 , -0.11563711,  0.06244029],\n",
       "       [-0.99471116, -0.16275744,  0.12136905],\n",
       "       [-0.8178574 , -0.17503981,  0.14753118],\n",
       "       [-0.6411147 , -0.18161972,  0.16939223],\n",
       "       [-0.4630729 , -0.18175913,  0.18040562],\n",
       "       [-0.2829393 , -0.17984897,  0.18859245],\n",
       "       [-0.12326489, -0.18635279,  0.21013801],\n",
       "       [ 0.05872101, -0.15630214,  0.15209481],\n",
       "       [ 0.24227025, -0.09546339,  0.09226413],\n",
       "       [ 0.47661328, -0.03951795,  0.03252757],\n",
       "       [ 0.66798896, -0.05361196,  0.0367788 ],\n",
       "       [ 0.8102598 , -0.08085525,  0.06632718],\n",
       "       [ 0.92775977, -0.09896223,  0.10794187],\n",
       "       [ 1.008588  , -0.12210028,  0.16225234],\n",
       "       [ 1.1308191 , -0.14180388,  0.18406892],\n",
       "       [ 1.2855526 , -0.15282206,  0.1734313 ],\n",
       "       [ 1.464357  ,  0.1781434 , -0.05608911],\n",
       "       [ 1.5858927 ,  0.05734433,  0.07784171],\n",
       "       [ 1.7373806 ,  0.06912042, -0.14941815],\n",
       "       [ 1.9012002 ,  0.10978024, -0.26881853],\n",
       "       [ 2.0625126 ,  0.19499315, -0.41748822],\n",
       "       [ 2.2216585 ,  0.2810381 , -0.61434966],\n",
       "       [ 2.3512986 ,  0.36838084, -0.8978188 ],\n",
       "       [ 2.41661   ,  0.5103113 , -1.240217  ],\n",
       "       [ 2.439726  ,  0.61072785, -1.5640315 ]], dtype=float32)"
      ]
     },
     "execution_count": 195,
     "metadata": {},
     "output_type": "execute_result"
    }
   ],
   "source": [
    "q_new"
   ]
  },
  {
   "cell_type": "code",
   "execution_count": 196,
   "metadata": {},
   "outputs": [],
   "source": [
    "import pandas as pd"
   ]
  },
  {
   "cell_type": "code",
   "execution_count": 197,
   "metadata": {},
   "outputs": [],
   "source": [
    "df = pd.DataFrame(data=q_new)"
   ]
  },
  {
   "cell_type": "code",
   "execution_count": 198,
   "metadata": {},
   "outputs": [],
   "source": [
    "df.to_csv('q_new10.csv',header=False,index= False)"
   ]
  },
  {
   "cell_type": "code",
   "execution_count": null,
   "metadata": {},
   "outputs": [],
   "source": []
  }
 ],
 "metadata": {
  "kernelspec": {
   "display_name": "Python 3",
   "language": "python",
   "name": "python3"
  },
  "language_info": {
   "codemirror_mode": {
    "name": "ipython",
    "version": 3
   },
   "file_extension": ".py",
   "mimetype": "text/x-python",
   "name": "python",
   "nbconvert_exporter": "python",
   "pygments_lexer": "ipython3",
   "version": "3.7.4"
  }
 },
 "nbformat": 4,
 "nbformat_minor": 4
}
