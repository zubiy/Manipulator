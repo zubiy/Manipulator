{
 "cells": [
  {
   "cell_type": "code",
   "execution_count": 54,
   "metadata": {},
   "outputs": [],
   "source": [
    "from robopy.base.serial_link import SerialLink\n",
    "from robopy.base.serial_link import Revolute\n",
    "import numpy as np"
   ]
  },
  {
   "cell_type": "code",
   "execution_count": 55,
   "metadata": {},
   "outputs": [],
   "source": [
    "initialPose_left = np.deg2rad([0, 0, 0])"
   ]
  },
  {
   "cell_type": "code",
   "execution_count": 56,
   "metadata": {},
   "outputs": [],
   "source": [
    "links = [Revolute(d=0.2,a=0, alpha = np.pi/2,j=0, theta=0, offset=0, qlim =initialPose_left[0]+np.deg2rad([-90, +90])),\n",
    "         Revolute(d=0, a=0.4, alpha = 0,j=0, theta=0, offset=0, qlim =initialPose_left[1]+np.deg2rad([-20, +90])),\n",
    "         Revolute(d=0,a=0.4, alpha = 0,j=0, theta=0, offset=0, qlim =initialPose_left[0]+np.deg2rad([-90, +90]))]"
   ]
  },
  {
   "cell_type": "code",
   "execution_count": 57,
   "metadata": {},
   "outputs": [],
   "source": [
    "baseL = np.matrix([[1, 0, 0, 0],\n",
    "                [0, 1, 0, 0],\n",
    "                [0, 0, 1, 0],\n",
    "                [0, 0, 0, 1]])"
   ]
  },
  {
   "cell_type": "code",
   "execution_count": 58,
   "metadata": {},
   "outputs": [],
   "source": [
    "leftArm = SerialLink(links,'3Z',baseL,colors='Red')"
   ]
  },
  {
   "cell_type": "code",
   "execution_count": 59,
   "metadata": {},
   "outputs": [],
   "source": [
    "t_min = []\n",
    "t_max = []\n",
    "for i in range(len(links)):\n",
    "    t_min.append(links[i].qlim[0])\n",
    "    t_max.append(links[i].qlim[1])"
   ]
  },
  {
   "cell_type": "code",
   "execution_count": 60,
   "metadata": {},
   "outputs": [],
   "source": [
    "N = 3000\n",
    "t1 = t_min[0] + (t_max[0]-t_min[0]) * np.random.rand(N,1)\n",
    "t2 = t_min[1] + (t_max[1]-t_min[1]) * np.random.rand(N,1)\n",
    "t3 = t_min[2] + (t_max[2]-t_min[2]) * np.random.rand(N,1)"
   ]
  },
  {
   "cell_type": "code",
   "execution_count": 61,
   "metadata": {},
   "outputs": [],
   "source": [
    "Y = np.hstack((t1,t2,t3))"
   ]
  },
  {
   "cell_type": "code",
   "execution_count": 62,
   "metadata": {},
   "outputs": [],
   "source": [
    "T =[]\n",
    "for i in range(0,N):\n",
    "    T.append(leftArm.fkine(Y[i]))"
   ]
  },
  {
   "cell_type": "code",
   "execution_count": 63,
   "metadata": {},
   "outputs": [],
   "source": [
    "T_array = []\n",
    "for i in range(0, len(T)):\n",
    "    T_array.append(np.array(T[i]))\n"
   ]
  },
  {
   "cell_type": "code",
   "execution_count": 90,
   "metadata": {},
   "outputs": [
    {
     "data": {
      "text/plain": [
       "array([[ 3.37429519e-01, -5.98170181e-01,  7.26865706e-01,\n",
       "         2.71146865e-01],\n",
       "       [ 3.57124671e-01, -6.33084294e-01, -6.86779620e-01,\n",
       "         2.86973218e-01],\n",
       "       [ 8.70978352e-01,  4.91321393e-01,  6.12323400e-17,\n",
       "         8.95788540e-01],\n",
       "       [ 0.00000000e+00,  0.00000000e+00,  0.00000000e+00,\n",
       "         1.00000000e+00]])"
      ]
     },
     "execution_count": 90,
     "metadata": {},
     "output_type": "execute_result"
    }
   ],
   "source": [
    "T_array[0]"
   ]
  },
  {
   "cell_type": "code",
   "execution_count": 104,
   "metadata": {},
   "outputs": [],
   "source": [
    "R_array = []\n",
    "for i in range(len(T_array)):\n",
    "    for j in range(0,3):\n",
    "        R_array.append(T_array[i][j][0:3])"
   ]
  },
  {
   "cell_type": "code",
   "execution_count": 106,
   "metadata": {},
   "outputs": [
    {
     "data": {
      "text/plain": [
       "array([[ 3.37429519e-01, -5.98170181e-01,  7.26865706e-01,\n",
       "         2.71146865e-01],\n",
       "       [ 3.57124671e-01, -6.33084294e-01, -6.86779620e-01,\n",
       "         2.86973218e-01],\n",
       "       [ 8.70978352e-01,  4.91321393e-01,  6.12323400e-17,\n",
       "         8.95788540e-01],\n",
       "       [ 0.00000000e+00,  0.00000000e+00,  0.00000000e+00,\n",
       "         1.00000000e+00]])"
      ]
     },
     "execution_count": 106,
     "metadata": {},
     "output_type": "execute_result"
    }
   ],
   "source": [
    "T_array[0]"
   ]
  },
  {
   "cell_type": "code",
   "execution_count": 107,
   "metadata": {},
   "outputs": [
    {
     "data": {
      "text/plain": [
       "array([ 0.33742952, -0.59817018,  0.72686571])"
      ]
     },
     "execution_count": 107,
     "metadata": {},
     "output_type": "execute_result"
    }
   ],
   "source": [
    "R_array[0]"
   ]
  },
  {
   "cell_type": "code",
   "execution_count": null,
   "metadata": {},
   "outputs": [],
   "source": []
  },
  {
   "cell_type": "code",
   "execution_count": null,
   "metadata": {},
   "outputs": [],
   "source": []
  }
 ],
 "metadata": {
  "kernelspec": {
   "display_name": "Python 3",
   "language": "python",
   "name": "python3"
  },
  "language_info": {
   "codemirror_mode": {
    "name": "ipython",
    "version": 3
   },
   "file_extension": ".py",
   "mimetype": "text/x-python",
   "name": "python",
   "nbconvert_exporter": "python",
   "pygments_lexer": "ipython3",
   "version": "3.7.4"
  }
 },
 "nbformat": 4,
 "nbformat_minor": 4
}
